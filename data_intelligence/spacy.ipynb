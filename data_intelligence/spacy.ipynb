{
 "cells": [
  {
   "cell_type": "markdown",
   "metadata": {
    "id": "Ik8s2O5atDBi"
   },
   "source": [
    "# 1.1. Librería Spacy\n",
    "\n",
    "En este ejercicio, trabajaremos con la librería Spacy (spacy.io).\n",
    "\n",
    "Spacy es una librería de Python que nos permite realizar muchas tareas de PLN, como:\n",
    "- tokenización,\n",
    "- análisis morfosintáctico y de dependencias.\n",
    "- reconocimiento de entidades.\n",
    "- modelos de embeddings (vectores de palabras).\n",
    "\n",
    "  "
   ]
  },
  {
   "cell_type": "markdown",
   "metadata": {
    "id": "cFjtuk5iLPjL"
   },
   "source": [
    "\n",
    "## Cómo instalar Spacy\n",
    "\n",
    "Ejecuta la siguiente celda para instalar la librería de Spacy."
   ]
  },
  {
   "cell_type": "code",
   "execution_count": 3,
   "metadata": {
    "id": "BerEdXs_tbFu"
   },
   "outputs": [
    {
     "name": "stdout",
     "output_type": "stream",
     "text": [
      "Collecting en-core-web-sm==3.7.1\n",
      "  Downloading https://github.com/explosion/spacy-models/releases/download/en_core_web_sm-3.7.1/en_core_web_sm-3.7.1-py3-none-any.whl (12.8 MB)\n",
      "\u001b[2K     \u001b[90m━━━━━━━━━━━━━━━━━━━━━━━━━━━━━━━━━━━━━━━━\u001b[0m \u001b[32m12.8/12.8 MB\u001b[0m \u001b[31m4.3 MB/s\u001b[0m eta \u001b[36m0:00:00\u001b[0ma \u001b[36m0:00:01\u001b[0m\n",
      "\u001b[?25hRequirement already satisfied: spacy<3.8.0,>=3.7.2 in /opt/miniconda3/envs/semestre_tres/lib/python3.12/site-packages (from en-core-web-sm==3.7.1) (3.7.5)\n",
      "Requirement already satisfied: spacy-legacy<3.1.0,>=3.0.11 in /opt/miniconda3/envs/semestre_tres/lib/python3.12/site-packages (from spacy<3.8.0,>=3.7.2->en-core-web-sm==3.7.1) (3.0.12)\n",
      "Requirement already satisfied: spacy-loggers<2.0.0,>=1.0.0 in /opt/miniconda3/envs/semestre_tres/lib/python3.12/site-packages (from spacy<3.8.0,>=3.7.2->en-core-web-sm==3.7.1) (1.0.5)\n",
      "Requirement already satisfied: murmurhash<1.1.0,>=0.28.0 in /opt/miniconda3/envs/semestre_tres/lib/python3.12/site-packages (from spacy<3.8.0,>=3.7.2->en-core-web-sm==3.7.1) (1.0.10)\n",
      "Requirement already satisfied: cymem<2.1.0,>=2.0.2 in /opt/miniconda3/envs/semestre_tres/lib/python3.12/site-packages (from spacy<3.8.0,>=3.7.2->en-core-web-sm==3.7.1) (2.0.8)\n",
      "Requirement already satisfied: preshed<3.1.0,>=3.0.2 in /opt/miniconda3/envs/semestre_tres/lib/python3.12/site-packages (from spacy<3.8.0,>=3.7.2->en-core-web-sm==3.7.1) (3.0.9)\n",
      "Requirement already satisfied: thinc<8.3.0,>=8.2.2 in /opt/miniconda3/envs/semestre_tres/lib/python3.12/site-packages (from spacy<3.8.0,>=3.7.2->en-core-web-sm==3.7.1) (8.2.5)\n",
      "Requirement already satisfied: wasabi<1.2.0,>=0.9.1 in /opt/miniconda3/envs/semestre_tres/lib/python3.12/site-packages (from spacy<3.8.0,>=3.7.2->en-core-web-sm==3.7.1) (1.1.3)\n",
      "Requirement already satisfied: srsly<3.0.0,>=2.4.3 in /opt/miniconda3/envs/semestre_tres/lib/python3.12/site-packages (from spacy<3.8.0,>=3.7.2->en-core-web-sm==3.7.1) (2.4.8)\n",
      "Requirement already satisfied: catalogue<2.1.0,>=2.0.6 in /opt/miniconda3/envs/semestre_tres/lib/python3.12/site-packages (from spacy<3.8.0,>=3.7.2->en-core-web-sm==3.7.1) (2.0.10)\n",
      "Requirement already satisfied: weasel<0.5.0,>=0.1.0 in /opt/miniconda3/envs/semestre_tres/lib/python3.12/site-packages (from spacy<3.8.0,>=3.7.2->en-core-web-sm==3.7.1) (0.4.1)\n",
      "Requirement already satisfied: typer<1.0.0,>=0.3.0 in /opt/miniconda3/envs/semestre_tres/lib/python3.12/site-packages (from spacy<3.8.0,>=3.7.2->en-core-web-sm==3.7.1) (0.12.5)\n",
      "Requirement already satisfied: tqdm<5.0.0,>=4.38.0 in /opt/miniconda3/envs/semestre_tres/lib/python3.12/site-packages (from spacy<3.8.0,>=3.7.2->en-core-web-sm==3.7.1) (4.66.5)\n",
      "Requirement already satisfied: requests<3.0.0,>=2.13.0 in /opt/miniconda3/envs/semestre_tres/lib/python3.12/site-packages (from spacy<3.8.0,>=3.7.2->en-core-web-sm==3.7.1) (2.32.3)\n",
      "Requirement already satisfied: pydantic!=1.8,!=1.8.1,<3.0.0,>=1.7.4 in /opt/miniconda3/envs/semestre_tres/lib/python3.12/site-packages (from spacy<3.8.0,>=3.7.2->en-core-web-sm==3.7.1) (2.9.2)\n",
      "Requirement already satisfied: jinja2 in /opt/miniconda3/envs/semestre_tres/lib/python3.12/site-packages (from spacy<3.8.0,>=3.7.2->en-core-web-sm==3.7.1) (3.1.4)\n",
      "Requirement already satisfied: setuptools in /opt/miniconda3/envs/semestre_tres/lib/python3.12/site-packages (from spacy<3.8.0,>=3.7.2->en-core-web-sm==3.7.1) (75.2.0)\n",
      "Requirement already satisfied: packaging>=20.0 in /opt/miniconda3/envs/semestre_tres/lib/python3.12/site-packages (from spacy<3.8.0,>=3.7.2->en-core-web-sm==3.7.1) (24.1)\n",
      "Requirement already satisfied: langcodes<4.0.0,>=3.2.0 in /opt/miniconda3/envs/semestre_tres/lib/python3.12/site-packages (from spacy<3.8.0,>=3.7.2->en-core-web-sm==3.7.1) (3.4.1)\n",
      "Requirement already satisfied: numpy>=1.19.0 in /opt/miniconda3/envs/semestre_tres/lib/python3.12/site-packages (from spacy<3.8.0,>=3.7.2->en-core-web-sm==3.7.1) (1.26.4)\n",
      "Requirement already satisfied: language-data>=1.2 in /opt/miniconda3/envs/semestre_tres/lib/python3.12/site-packages (from langcodes<4.0.0,>=3.2.0->spacy<3.8.0,>=3.7.2->en-core-web-sm==3.7.1) (1.2.0)\n",
      "Requirement already satisfied: annotated-types>=0.6.0 in /opt/miniconda3/envs/semestre_tres/lib/python3.12/site-packages (from pydantic!=1.8,!=1.8.1,<3.0.0,>=1.7.4->spacy<3.8.0,>=3.7.2->en-core-web-sm==3.7.1) (0.7.0)\n",
      "Requirement already satisfied: pydantic-core==2.23.4 in /opt/miniconda3/envs/semestre_tres/lib/python3.12/site-packages (from pydantic!=1.8,!=1.8.1,<3.0.0,>=1.7.4->spacy<3.8.0,>=3.7.2->en-core-web-sm==3.7.1) (2.23.4)\n",
      "Requirement already satisfied: typing-extensions>=4.6.1 in /opt/miniconda3/envs/semestre_tres/lib/python3.12/site-packages (from pydantic!=1.8,!=1.8.1,<3.0.0,>=1.7.4->spacy<3.8.0,>=3.7.2->en-core-web-sm==3.7.1) (4.12.2)\n",
      "Requirement already satisfied: charset-normalizer<4,>=2 in /opt/miniconda3/envs/semestre_tres/lib/python3.12/site-packages (from requests<3.0.0,>=2.13.0->spacy<3.8.0,>=3.7.2->en-core-web-sm==3.7.1) (3.4.0)\n",
      "Requirement already satisfied: idna<4,>=2.5 in /opt/miniconda3/envs/semestre_tres/lib/python3.12/site-packages (from requests<3.0.0,>=2.13.0->spacy<3.8.0,>=3.7.2->en-core-web-sm==3.7.1) (3.10)\n",
      "Requirement already satisfied: urllib3<3,>=1.21.1 in /opt/miniconda3/envs/semestre_tres/lib/python3.12/site-packages (from requests<3.0.0,>=2.13.0->spacy<3.8.0,>=3.7.2->en-core-web-sm==3.7.1) (2.2.3)\n",
      "Requirement already satisfied: certifi>=2017.4.17 in /opt/miniconda3/envs/semestre_tres/lib/python3.12/site-packages (from requests<3.0.0,>=2.13.0->spacy<3.8.0,>=3.7.2->en-core-web-sm==3.7.1) (2024.8.30)\n",
      "Requirement already satisfied: blis<0.8.0,>=0.7.8 in /opt/miniconda3/envs/semestre_tres/lib/python3.12/site-packages (from thinc<8.3.0,>=8.2.2->spacy<3.8.0,>=3.7.2->en-core-web-sm==3.7.1) (0.7.11)\n",
      "Requirement already satisfied: confection<1.0.0,>=0.0.1 in /opt/miniconda3/envs/semestre_tres/lib/python3.12/site-packages (from thinc<8.3.0,>=8.2.2->spacy<3.8.0,>=3.7.2->en-core-web-sm==3.7.1) (0.1.5)\n",
      "Requirement already satisfied: click>=8.0.0 in /opt/miniconda3/envs/semestre_tres/lib/python3.12/site-packages (from typer<1.0.0,>=0.3.0->spacy<3.8.0,>=3.7.2->en-core-web-sm==3.7.1) (8.1.7)\n",
      "Requirement already satisfied: shellingham>=1.3.0 in /opt/miniconda3/envs/semestre_tres/lib/python3.12/site-packages (from typer<1.0.0,>=0.3.0->spacy<3.8.0,>=3.7.2->en-core-web-sm==3.7.1) (1.5.4)\n",
      "Requirement already satisfied: rich>=10.11.0 in /opt/miniconda3/envs/semestre_tres/lib/python3.12/site-packages (from typer<1.0.0,>=0.3.0->spacy<3.8.0,>=3.7.2->en-core-web-sm==3.7.1) (13.9.2)\n",
      "Requirement already satisfied: cloudpathlib<1.0.0,>=0.7.0 in /opt/miniconda3/envs/semestre_tres/lib/python3.12/site-packages (from weasel<0.5.0,>=0.1.0->spacy<3.8.0,>=3.7.2->en-core-web-sm==3.7.1) (0.20.0)\n",
      "Requirement already satisfied: smart-open<8.0.0,>=5.2.1 in /opt/miniconda3/envs/semestre_tres/lib/python3.12/site-packages (from weasel<0.5.0,>=0.1.0->spacy<3.8.0,>=3.7.2->en-core-web-sm==3.7.1) (7.0.5)\n",
      "Requirement already satisfied: MarkupSafe>=2.0 in /opt/miniconda3/envs/semestre_tres/lib/python3.12/site-packages (from jinja2->spacy<3.8.0,>=3.7.2->en-core-web-sm==3.7.1) (3.0.2)\n",
      "Requirement already satisfied: marisa-trie>=0.7.7 in /opt/miniconda3/envs/semestre_tres/lib/python3.12/site-packages (from language-data>=1.2->langcodes<4.0.0,>=3.2.0->spacy<3.8.0,>=3.7.2->en-core-web-sm==3.7.1) (1.2.1)\n",
      "Requirement already satisfied: markdown-it-py>=2.2.0 in /opt/miniconda3/envs/semestre_tres/lib/python3.12/site-packages (from rich>=10.11.0->typer<1.0.0,>=0.3.0->spacy<3.8.0,>=3.7.2->en-core-web-sm==3.7.1) (3.0.0)\n",
      "Requirement already satisfied: pygments<3.0.0,>=2.13.0 in /opt/miniconda3/envs/semestre_tres/lib/python3.12/site-packages (from rich>=10.11.0->typer<1.0.0,>=0.3.0->spacy<3.8.0,>=3.7.2->en-core-web-sm==3.7.1) (2.18.0)\n",
      "Requirement already satisfied: wrapt in /opt/miniconda3/envs/semestre_tres/lib/python3.12/site-packages (from smart-open<8.0.0,>=5.2.1->weasel<0.5.0,>=0.1.0->spacy<3.8.0,>=3.7.2->en-core-web-sm==3.7.1) (1.16.0)\n",
      "Requirement already satisfied: mdurl~=0.1 in /opt/miniconda3/envs/semestre_tres/lib/python3.12/site-packages (from markdown-it-py>=2.2.0->rich>=10.11.0->typer<1.0.0,>=0.3.0->spacy<3.8.0,>=3.7.2->en-core-web-sm==3.7.1) (0.1.2)\n",
      "\u001b[38;5;2m✔ Download and installation successful\u001b[0m\n",
      "You can now load the package via spacy.load('en_core_web_sm')\n"
     ]
    }
   ],
   "source": [
    "!pip install -q spacy\n",
    "!python -m spacy download en_core_web_sm"
   ]
  },
  {
   "cell_type": "markdown",
   "metadata": {
    "id": "Jc2XN-ZQy6oU"
   },
   "source": []
  },
  {
   "cell_type": "markdown",
   "metadata": {
    "id": "rsfppRaoFZqo"
   },
   "source": [
    "## Cómo cargar alguno de los modelos de Spacy\n",
    "\n",
    "A continuación debemos cargar alguno de los modelos que proporciona Spacy.\n",
    "\n",
    "En la siguiente página, spacy.io/usage/models, puedes revisar los principales modelos de Spacy y conocer sus características.\n",
    "\n",
    " En este ejercicio, vamos a cargar el modelo **en_core_web_sm**. Es el modelo más pequeño, y por tanto, más rápido en cargar, aunque también el menos preciso.\n",
    "\n"
   ]
  },
  {
   "cell_type": "code",
   "execution_count": 4,
   "metadata": {
    "id": "rJjJ5GMzZ26Y"
   },
   "outputs": [],
   "source": [
    "import spacy\n",
    "\n",
    "model = spacy.load('en_core_web_sm')\n",
    "\n",
    "# Otra alternativa para cargar el mismo modelo, sería el código:\n",
    "#import en_core_web_sm\n",
    "#nlp = en_core_web_sm.load()\n"
   ]
  },
  {
   "cell_type": "markdown",
   "metadata": {
    "id": "WzsYeOe9dMug"
   },
   "source": [
    "## Qué tareas podemos realizar con Spacy\n"
   ]
  },
  {
   "cell_type": "markdown",
   "metadata": {
    "id": "2lRTHWqZhIA_"
   },
   "source": [
    "\n",
    "### Cómo dividir un texto en sus oraciones.\n",
    "\n",
    "Para dividir un texto en sus oraciones, simplemente debemos pasar el texto como parámetro al modelo.\n",
    "El modelo devuelve un objeto documento. Dicho objeto documento almacena la lista de oraciones del texto en su atributo **sents**.\n",
    "\n",
    "Ejecuta la siguiente celda para comprobar cómo el texto contenido en la variable *text* es dividido en sus oraciones:"
   ]
  },
  {
   "cell_type": "code",
   "execution_count": 5,
   "metadata": {
    "colab": {
     "base_uri": "https://localhost:8080/"
    },
    "id": "rOVAf2h9sq0P",
    "outputId": "1ed99caf-ceaf-4d26-abed-a1a82b5fb110"
   },
   "outputs": [
    {
     "name": "stdout",
     "output_type": "stream",
     "text": [
      "0 Pedro Sánchez Pérez-Castejón (born 29 February 1972) is a Spanish politician\n",
      "who has been Prime Minister of Spain since June 2018.\n",
      "\n",
      "1 He has also been Secretary-General of the Spanish Socialist Workers' Party (PSOE)\n",
      "since June 2017, having previously held that office from 2014 to 2016.\n",
      "\n",
      "2 Moreover, Sánchez is the current President of the Socialist International,\n",
      "having been elected to that position in November 2022.\n"
     ]
    }
   ],
   "source": [
    "text='''Pedro Sánchez Pérez-Castejón (born 29 February 1972) is a Spanish politician\n",
    "who has been Prime Minister of Spain since June 2018.\n",
    "He has also been Secretary-General of the Spanish Socialist Workers' Party (PSOE)\n",
    "since June 2017, having previously held that office from 2014 to 2016.\n",
    "Moreover, Sánchez is the current President of the Socialist International,\n",
    "having been elected to that position in November 2022.'''\n",
    "\n",
    "document = model(text)\n",
    "\n",
    "for i,s in enumerate(document.sents):\n",
    "    print(i,s)\n"
   ]
  },
  {
   "cell_type": "markdown",
   "metadata": {
    "id": "E2owzCAJFhBH"
   },
   "source": [
    "### Cómo tokenizar un texto\n",
    "\n",
    "La tokenización consiste en dividir un texto en sus palabras y signos de puntuación.\n",
    "\n",
    "Ejecuta la siguiente celda para ver cómo podemos mostrar los tokens de un texto. De cada token, se muestra las siguientes propiedades:\n",
    "\n",
    "- texto original del token (orth_).\n",
    "- palabra en minúsculas (lower_).\n",
    "- lema de la palabra (lemma_).\n",
    "- préfijos y sufijos de la palabra (prefix_ y sufix_).\n",
    "- categoría gramatical de la palabra. También conocida como categoría morfosintáctica (en inglés PoS) ().\n",
    "- patrón (shape_) que representa la forma de la palabra, distinguiendo entre letras (x) y números (d), y entre mayúsculas y minúsculas. También representa el número de carácteres.\n",
    "\n",
    "\n",
    "Estas propiedades son muy útiles en la representación de los tokens para algunas tareas de PLN, como el reconocimiento de entidades.\n",
    "\n"
   ]
  },
  {
   "cell_type": "code",
   "execution_count": 6,
   "metadata": {
    "colab": {
     "base_uri": "https://localhost:8080/"
    },
    "id": "o8xqE1DQmqM5",
    "outputId": "996bc4d2-303b-4eaf-b815-7eb95d1f46d9"
   },
   "outputs": [
    {
     "name": "stdout",
     "output_type": "stream",
     "text": [
      "original: Pedro\n",
      "lowercased: pedro\n",
      "lemma: Pedro\n",
      "prefix: P\n",
      "suffix: dro\n",
      "shape: Xxxxx\n",
      "PoS tag: PROPN\n",
      "----------------------------------------\n",
      "original: Sánchez\n",
      "lowercased: sánchez\n",
      "lemma: Sánchez\n",
      "prefix: S\n",
      "suffix: hez\n",
      "shape: Xxxxx\n",
      "PoS tag: PROPN\n",
      "----------------------------------------\n",
      "original: is\n",
      "lowercased: is\n",
      "lemma: be\n",
      "prefix: i\n",
      "suffix: is\n",
      "shape: xx\n",
      "PoS tag: AUX\n",
      "----------------------------------------\n",
      "original: the\n",
      "lowercased: the\n",
      "lemma: the\n",
      "prefix: t\n",
      "suffix: the\n",
      "shape: xxx\n",
      "PoS tag: DET\n",
      "----------------------------------------\n",
      "original: Prime\n",
      "lowercased: prime\n",
      "lemma: Prime\n",
      "prefix: P\n",
      "suffix: ime\n",
      "shape: Xxxxx\n",
      "PoS tag: PROPN\n",
      "----------------------------------------\n",
      "original: Minister\n",
      "lowercased: minister\n",
      "lemma: Minister\n",
      "prefix: M\n",
      "suffix: ter\n",
      "shape: Xxxxx\n",
      "PoS tag: PROPN\n",
      "----------------------------------------\n",
      "original: of\n",
      "lowercased: of\n",
      "lemma: of\n",
      "prefix: o\n",
      "suffix: of\n",
      "shape: xx\n",
      "PoS tag: ADP\n",
      "----------------------------------------\n",
      "original: Spain\n",
      "lowercased: spain\n",
      "lemma: Spain\n",
      "prefix: S\n",
      "suffix: ain\n",
      "shape: Xxxxx\n",
      "PoS tag: PROPN\n",
      "----------------------------------------\n",
      "original: since\n",
      "lowercased: since\n",
      "lemma: since\n",
      "prefix: s\n",
      "suffix: nce\n",
      "shape: xxxx\n",
      "PoS tag: SCONJ\n",
      "----------------------------------------\n",
      "original: June\n",
      "lowercased: june\n",
      "lemma: June\n",
      "prefix: J\n",
      "suffix: une\n",
      "shape: Xxxx\n",
      "PoS tag: PROPN\n",
      "----------------------------------------\n",
      "original: 2018\n",
      "lowercased: 2018\n",
      "lemma: 2018\n",
      "prefix: 2\n",
      "suffix: 018\n",
      "shape: dddd\n",
      "PoS tag: NUM\n",
      "----------------------------------------\n",
      "original: .\n",
      "lowercased: .\n",
      "lemma: .\n",
      "prefix: .\n",
      "suffix: .\n",
      "shape: .\n",
      "PoS tag: PUNCT\n",
      "----------------------------------------\n"
     ]
    }
   ],
   "source": [
    "text = 'Pedro Sánchez is the Prime Minister of Spain since June 2018.'\n",
    "document = model(text)\n",
    "for i, token in enumerate(document):\n",
    "    print(\"original:\", token.orth_)\n",
    "    print(\"lowercased:\", token.lower_)\n",
    "    print(\"lemma:\", token.lemma_)\n",
    "    print(\"prefix:\", token.prefix_)\n",
    "    print(\"suffix:\", token.suffix_)\n",
    "    print(\"shape:\", token.shape_)\n",
    "    print(\"PoS tag:\", token.pos_)\n",
    "\n",
    "    print(\"----------------------------------------\")\n"
   ]
  },
  {
   "cell_type": "markdown",
   "metadata": {
    "id": "rXPKy9TZi28h"
   },
   "source": [
    "\n",
    "En la siguiente página, spacy.io/api/token#attributes,  puedes encontrar la descripción de estas y otras propiedades de los tokens.\n"
   ]
  },
  {
   "cell_type": "markdown",
   "metadata": {
    "id": "ZXRjw1Puu14a"
   },
   "source": [
    "### Cómo obtener los sintagmas nominales de un textos (análisis superficial)\n",
    "\n",
    "Spacy también proporciona la lista de sintagmas nominales en texto. Esta lista se almacena en la propiedad de **noun_chunks** del objeto document.\n",
    "\n",
    "Para cada sintagma nominal, es posible obtener los siguientes atributos:\n",
    "- el texto del sintagma nominal (text).\n",
    "- el núcleo del sintagma nominal (root.text).\n",
    "- la relación gramatical del sintagma nominal en el texto principal (root.dep_).  \n",
    "\n",
    "Algunas de estas relaciones gramaticales son:\n",
    " - *nsubj*: es el sujeto sintáctico. Por ejemplo, 'Clinton defeated Dole', nsubj(derrotado,Clinton)\n",
    " - *dobj*: es el objeto directo de un VP. Por ejemplo, 'She gave me a raise' -> dobj (gave, raise).\n",
    " - *pobj*: es el objeto de una preposición (por ejemplo, 'I sit on the chair' -> pobj(on, chair)\n",
    "- head: representa el núcleo del sintagama con el que guarda la relación gramatical. Por ejemplo, 'The boy' tiene una relación gramática del sujeto con 'ran'\n",
    "\n",
    "\n",
    "Consulta el siguiente documento en nlp.stanford.edu/software/dependencies_manual.pdf, para encontrar más información sobre estas relaciones gramáticales.\n",
    "\n"
   ]
  },
  {
   "cell_type": "code",
   "execution_count": 7,
   "metadata": {
    "colab": {
     "base_uri": "https://localhost:8080/"
    },
    "id": "vVXpQ512u61y",
    "outputId": "54210e84-5aa7-43d6-8415-0d4f50140cde"
   },
   "outputs": [
    {
     "name": "stdout",
     "output_type": "stream",
     "text": [
      "text chunk: The boy\n",
      "root chunk: boy\n",
      "grammatical dependency: nsubj\n",
      "head chunk: ran\n",
      "---------------------------------\n",
      "text chunk: the spotted dog\n",
      "root chunk: dog\n",
      "grammatical dependency: pobj\n",
      "head chunk: with\n",
      "---------------------------------\n",
      "text chunk: the firetruck\n",
      "root chunk: firetruck\n",
      "grammatical dependency: pobj\n",
      "head chunk: after\n",
      "---------------------------------\n"
     ]
    }
   ],
   "source": [
    "text= \"The boy with the spotted dog quickly ran after the firetruck.\"\n",
    "doc = model(text)\n",
    "\n",
    "for chunk in doc.noun_chunks:\n",
    "    print('text chunk:',chunk.text)\n",
    "    print('root chunk:',chunk.root.text)\n",
    "    print('grammatical dependency:',chunk.root.dep_)\n",
    "    print('head chunk:',chunk.root.head.text)\n",
    "    print('---------------------------------')\n"
   ]
  },
  {
   "cell_type": "markdown",
   "metadata": {
    "id": "ul1i-WequN3M"
   },
   "source": [
    "### Cómo obtener el análisis de dependencias de un texto\n",
    "\n",
    "SpaCy proporciona un analizador de dependencias sintácticas rápido y preciso.\n",
    "\n",
    "Para cada token, el modelo devuelve su relación gramátical con respecto a la oración (dep_).\n",
    "\n",
    "Esta información es crucial para tareas de PLN como la extracción de relaciones.\n",
    "\n",
    "Veamos algunos ejemplos:"
   ]
  },
  {
   "cell_type": "code",
   "execution_count": 14,
   "metadata": {
    "colab": {
     "base_uri": "https://localhost:8080/"
    },
    "id": "eIVK04mnTrhc",
    "outputId": "def68880-ee75-468a-e2a7-40d3425f6f9d"
   },
   "outputs": [
    {
     "name": "stdout",
     "output_type": "stream",
     "text": [
      "word: She\n",
      "grammatical relation: nsubj\n",
      "connected word (head): buys\n",
      "------------------------------------------\n",
      "word: buys\n",
      "grammatical relation: ROOT\n",
      "connected word (head): buys\n",
      "------------------------------------------\n",
      "word: materials\n",
      "grammatical relation: dobj\n",
      "connected word (head): buys\n",
      "------------------------------------------\n",
      "word: for\n",
      "grammatical relation: prep\n",
      "connected word (head): buys\n",
      "------------------------------------------\n",
      "word: her\n",
      "grammatical relation: poss\n",
      "connected word (head): studies\n",
      "------------------------------------------\n",
      "word: studies\n",
      "grammatical relation: pobj\n",
      "connected word (head): for\n",
      "------------------------------------------\n",
      "word: .\n",
      "grammatical relation: punct\n",
      "connected word (head): buys\n",
      "------------------------------------------\n"
     ]
    }
   ],
   "source": [
    "example = \"She buys materials for her studies.\"\n",
    "doc = model(example)\n",
    "for token in doc:\n",
    "    print(\"word:\",token.orth_)\n",
    "    print(\"grammatical relation:\", token.dep_)\n",
    "    print(\"connected word (head):\", token.head.orth_)\n",
    "    print('------------------------------------------')\n"
   ]
  },
  {
   "cell_type": "markdown",
   "metadata": {
    "id": "G1dWaKXco_dB"
   },
   "source": [
    "Spacy proporciona un paquete **displacy** que permite visualizar de forma gráfica las dependencias en una oración. Esta visualización te ayudará a comprender mejor estas relaciones de dependencias:"
   ]
  },
  {
   "cell_type": "code",
   "execution_count": 15,
   "metadata": {
    "colab": {
     "base_uri": "https://localhost:8080/",
     "height": 333
    },
    "id": "7ZR1qw3LoUwG",
    "outputId": "f920dabb-15b4-47c2-cf77-14793b50d00b"
   },
   "outputs": [
    {
     "data": {
      "text/html": [
       "<span class=\"tex2jax_ignore\"><svg xmlns=\"http://www.w3.org/2000/svg\" xmlns:xlink=\"http://www.w3.org/1999/xlink\" xml:lang=\"en\" id=\"c0c2fccbf63f49dda26cd7c56a93614e-0\" class=\"displacy\" width=\"1100\" height=\"312.0\" direction=\"ltr\" style=\"max-width: none; height: 312.0px; color: #000000; background: #ffffff; font-family: Arial; direction: ltr\">\n",
       "<text class=\"displacy-token\" fill=\"currentColor\" text-anchor=\"middle\" y=\"222.0\">\n",
       "    <tspan class=\"displacy-word\" fill=\"currentColor\" x=\"50\">She</tspan>\n",
       "    <tspan class=\"displacy-tag\" dy=\"2em\" fill=\"currentColor\" x=\"50\">PRON</tspan>\n",
       "</text>\n",
       "\n",
       "<text class=\"displacy-token\" fill=\"currentColor\" text-anchor=\"middle\" y=\"222.0\">\n",
       "    <tspan class=\"displacy-word\" fill=\"currentColor\" x=\"225\">buys</tspan>\n",
       "    <tspan class=\"displacy-tag\" dy=\"2em\" fill=\"currentColor\" x=\"225\">VERB</tspan>\n",
       "</text>\n",
       "\n",
       "<text class=\"displacy-token\" fill=\"currentColor\" text-anchor=\"middle\" y=\"222.0\">\n",
       "    <tspan class=\"displacy-word\" fill=\"currentColor\" x=\"400\">materials</tspan>\n",
       "    <tspan class=\"displacy-tag\" dy=\"2em\" fill=\"currentColor\" x=\"400\">NOUN</tspan>\n",
       "</text>\n",
       "\n",
       "<text class=\"displacy-token\" fill=\"currentColor\" text-anchor=\"middle\" y=\"222.0\">\n",
       "    <tspan class=\"displacy-word\" fill=\"currentColor\" x=\"575\">for</tspan>\n",
       "    <tspan class=\"displacy-tag\" dy=\"2em\" fill=\"currentColor\" x=\"575\">ADP</tspan>\n",
       "</text>\n",
       "\n",
       "<text class=\"displacy-token\" fill=\"currentColor\" text-anchor=\"middle\" y=\"222.0\">\n",
       "    <tspan class=\"displacy-word\" fill=\"currentColor\" x=\"750\">her</tspan>\n",
       "    <tspan class=\"displacy-tag\" dy=\"2em\" fill=\"currentColor\" x=\"750\">PRON</tspan>\n",
       "</text>\n",
       "\n",
       "<text class=\"displacy-token\" fill=\"currentColor\" text-anchor=\"middle\" y=\"222.0\">\n",
       "    <tspan class=\"displacy-word\" fill=\"currentColor\" x=\"925\">studies.</tspan>\n",
       "    <tspan class=\"displacy-tag\" dy=\"2em\" fill=\"currentColor\" x=\"925\">NOUN</tspan>\n",
       "</text>\n",
       "\n",
       "<g class=\"displacy-arrow\">\n",
       "    <path class=\"displacy-arc\" id=\"arrow-c0c2fccbf63f49dda26cd7c56a93614e-0-0\" stroke-width=\"2px\" d=\"M70,177.0 C70,89.5 220.0,89.5 220.0,177.0\" fill=\"none\" stroke=\"currentColor\"/>\n",
       "    <text dy=\"1.25em\" style=\"font-size: 0.8em; letter-spacing: 1px\">\n",
       "        <textPath xlink:href=\"#arrow-c0c2fccbf63f49dda26cd7c56a93614e-0-0\" class=\"displacy-label\" startOffset=\"50%\" side=\"left\" fill=\"currentColor\" text-anchor=\"middle\">nsubj</textPath>\n",
       "    </text>\n",
       "    <path class=\"displacy-arrowhead\" d=\"M70,179.0 L62,167.0 78,167.0\" fill=\"currentColor\"/>\n",
       "</g>\n",
       "\n",
       "<g class=\"displacy-arrow\">\n",
       "    <path class=\"displacy-arc\" id=\"arrow-c0c2fccbf63f49dda26cd7c56a93614e-0-1\" stroke-width=\"2px\" d=\"M245,177.0 C245,89.5 395.0,89.5 395.0,177.0\" fill=\"none\" stroke=\"currentColor\"/>\n",
       "    <text dy=\"1.25em\" style=\"font-size: 0.8em; letter-spacing: 1px\">\n",
       "        <textPath xlink:href=\"#arrow-c0c2fccbf63f49dda26cd7c56a93614e-0-1\" class=\"displacy-label\" startOffset=\"50%\" side=\"left\" fill=\"currentColor\" text-anchor=\"middle\">dobj</textPath>\n",
       "    </text>\n",
       "    <path class=\"displacy-arrowhead\" d=\"M395.0,179.0 L403.0,167.0 387.0,167.0\" fill=\"currentColor\"/>\n",
       "</g>\n",
       "\n",
       "<g class=\"displacy-arrow\">\n",
       "    <path class=\"displacy-arc\" id=\"arrow-c0c2fccbf63f49dda26cd7c56a93614e-0-2\" stroke-width=\"2px\" d=\"M245,177.0 C245,2.0 575.0,2.0 575.0,177.0\" fill=\"none\" stroke=\"currentColor\"/>\n",
       "    <text dy=\"1.25em\" style=\"font-size: 0.8em; letter-spacing: 1px\">\n",
       "        <textPath xlink:href=\"#arrow-c0c2fccbf63f49dda26cd7c56a93614e-0-2\" class=\"displacy-label\" startOffset=\"50%\" side=\"left\" fill=\"currentColor\" text-anchor=\"middle\">prep</textPath>\n",
       "    </text>\n",
       "    <path class=\"displacy-arrowhead\" d=\"M575.0,179.0 L583.0,167.0 567.0,167.0\" fill=\"currentColor\"/>\n",
       "</g>\n",
       "\n",
       "<g class=\"displacy-arrow\">\n",
       "    <path class=\"displacy-arc\" id=\"arrow-c0c2fccbf63f49dda26cd7c56a93614e-0-3\" stroke-width=\"2px\" d=\"M770,177.0 C770,89.5 920.0,89.5 920.0,177.0\" fill=\"none\" stroke=\"currentColor\"/>\n",
       "    <text dy=\"1.25em\" style=\"font-size: 0.8em; letter-spacing: 1px\">\n",
       "        <textPath xlink:href=\"#arrow-c0c2fccbf63f49dda26cd7c56a93614e-0-3\" class=\"displacy-label\" startOffset=\"50%\" side=\"left\" fill=\"currentColor\" text-anchor=\"middle\">poss</textPath>\n",
       "    </text>\n",
       "    <path class=\"displacy-arrowhead\" d=\"M770,179.0 L762,167.0 778,167.0\" fill=\"currentColor\"/>\n",
       "</g>\n",
       "\n",
       "<g class=\"displacy-arrow\">\n",
       "    <path class=\"displacy-arc\" id=\"arrow-c0c2fccbf63f49dda26cd7c56a93614e-0-4\" stroke-width=\"2px\" d=\"M595,177.0 C595,2.0 925.0,2.0 925.0,177.0\" fill=\"none\" stroke=\"currentColor\"/>\n",
       "    <text dy=\"1.25em\" style=\"font-size: 0.8em; letter-spacing: 1px\">\n",
       "        <textPath xlink:href=\"#arrow-c0c2fccbf63f49dda26cd7c56a93614e-0-4\" class=\"displacy-label\" startOffset=\"50%\" side=\"left\" fill=\"currentColor\" text-anchor=\"middle\">pobj</textPath>\n",
       "    </text>\n",
       "    <path class=\"displacy-arrowhead\" d=\"M925.0,179.0 L933.0,167.0 917.0,167.0\" fill=\"currentColor\"/>\n",
       "</g>\n",
       "</svg></span>"
      ],
      "text/plain": [
       "<IPython.core.display.HTML object>"
      ]
     },
     "metadata": {},
     "output_type": "display_data"
    }
   ],
   "source": [
    "from spacy import displacy\n",
    "displacy.render(doc, jupyter=True, style='dep')\n"
   ]
  },
  {
   "cell_type": "markdown",
   "metadata": {
    "id": "hgdoKZiypaDr"
   },
   "source": [
    "Veamos el análisis de dependencias para una oración compleja (tiene cláusulas subordinadas):"
   ]
  },
  {
   "cell_type": "code",
   "execution_count": 16,
   "metadata": {
    "colab": {
     "base_uri": "https://localhost:8080/"
    },
    "id": "W9SgTwGQsq0a",
    "outputId": "062f1df9-485e-4c66-8746-f16649fe6b92"
   },
   "outputs": [
    {
     "name": "stdout",
     "output_type": "stream",
     "text": [
      "word: The\n",
      "grammatical relation: det\n",
      "connected word (head): boy\n",
      "------------------------------------------\n",
      "word: boy\n",
      "grammatical relation: nsubj\n",
      "connected word (head): ran\n",
      "------------------------------------------\n",
      "word: with\n",
      "grammatical relation: prep\n",
      "connected word (head): boy\n",
      "------------------------------------------\n",
      "word: the\n",
      "grammatical relation: det\n",
      "connected word (head): dog\n",
      "------------------------------------------\n",
      "word: spotted\n",
      "grammatical relation: amod\n",
      "connected word (head): dog\n",
      "------------------------------------------\n",
      "word: dog\n",
      "grammatical relation: pobj\n",
      "connected word (head): with\n",
      "------------------------------------------\n",
      "word: quickly\n",
      "grammatical relation: advmod\n",
      "connected word (head): ran\n",
      "------------------------------------------\n",
      "word: ran\n",
      "grammatical relation: ROOT\n",
      "connected word (head): ran\n",
      "------------------------------------------\n",
      "word: after\n",
      "grammatical relation: prep\n",
      "connected word (head): ran\n",
      "------------------------------------------\n",
      "word: the\n",
      "grammatical relation: det\n",
      "connected word (head): firetruck\n",
      "------------------------------------------\n",
      "word: firetruck\n",
      "grammatical relation: pobj\n",
      "connected word (head): after\n",
      "------------------------------------------\n",
      "word: .\n",
      "grammatical relation: punct\n",
      "connected word (head): ran\n",
      "------------------------------------------\n"
     ]
    }
   ],
   "source": [
    "example = \"The boy with the spotted dog quickly ran after the firetruck.\"\n",
    "doc = model(example)\n",
    "\n",
    "for token in doc:\n",
    "    print(\"word:\",token.orth_)\n",
    "    print(\"grammatical relation:\", token.dep_)\n",
    "    print(\"connected word (head):\", token.head.orth_)\n",
    "    print('------------------------------------------')"
   ]
  },
  {
   "cell_type": "code",
   "execution_count": 17,
   "metadata": {
    "colab": {
     "base_uri": "https://localhost:8080/",
     "height": 528
    },
    "id": "dBGvSVaU0mq-",
    "outputId": "7627fb57-8afd-426e-f233-6cf5da47074f"
   },
   "outputs": [
    {
     "data": {
      "text/html": [
       "<span class=\"tex2jax_ignore\"><svg xmlns=\"http://www.w3.org/2000/svg\" xmlns:xlink=\"http://www.w3.org/1999/xlink\" xml:lang=\"en\" id=\"6e205fe064ac469f95a553bd5fc54939-0\" class=\"displacy\" width=\"1975\" height=\"487.0\" direction=\"ltr\" style=\"max-width: none; height: 487.0px; color: #000000; background: #ffffff; font-family: Arial; direction: ltr\">\n",
       "<text class=\"displacy-token\" fill=\"currentColor\" text-anchor=\"middle\" y=\"397.0\">\n",
       "    <tspan class=\"displacy-word\" fill=\"currentColor\" x=\"50\">The</tspan>\n",
       "    <tspan class=\"displacy-tag\" dy=\"2em\" fill=\"currentColor\" x=\"50\">DET</tspan>\n",
       "</text>\n",
       "\n",
       "<text class=\"displacy-token\" fill=\"currentColor\" text-anchor=\"middle\" y=\"397.0\">\n",
       "    <tspan class=\"displacy-word\" fill=\"currentColor\" x=\"225\">boy</tspan>\n",
       "    <tspan class=\"displacy-tag\" dy=\"2em\" fill=\"currentColor\" x=\"225\">NOUN</tspan>\n",
       "</text>\n",
       "\n",
       "<text class=\"displacy-token\" fill=\"currentColor\" text-anchor=\"middle\" y=\"397.0\">\n",
       "    <tspan class=\"displacy-word\" fill=\"currentColor\" x=\"400\">with</tspan>\n",
       "    <tspan class=\"displacy-tag\" dy=\"2em\" fill=\"currentColor\" x=\"400\">ADP</tspan>\n",
       "</text>\n",
       "\n",
       "<text class=\"displacy-token\" fill=\"currentColor\" text-anchor=\"middle\" y=\"397.0\">\n",
       "    <tspan class=\"displacy-word\" fill=\"currentColor\" x=\"575\">the</tspan>\n",
       "    <tspan class=\"displacy-tag\" dy=\"2em\" fill=\"currentColor\" x=\"575\">DET</tspan>\n",
       "</text>\n",
       "\n",
       "<text class=\"displacy-token\" fill=\"currentColor\" text-anchor=\"middle\" y=\"397.0\">\n",
       "    <tspan class=\"displacy-word\" fill=\"currentColor\" x=\"750\">spotted</tspan>\n",
       "    <tspan class=\"displacy-tag\" dy=\"2em\" fill=\"currentColor\" x=\"750\">VERB</tspan>\n",
       "</text>\n",
       "\n",
       "<text class=\"displacy-token\" fill=\"currentColor\" text-anchor=\"middle\" y=\"397.0\">\n",
       "    <tspan class=\"displacy-word\" fill=\"currentColor\" x=\"925\">dog</tspan>\n",
       "    <tspan class=\"displacy-tag\" dy=\"2em\" fill=\"currentColor\" x=\"925\">NOUN</tspan>\n",
       "</text>\n",
       "\n",
       "<text class=\"displacy-token\" fill=\"currentColor\" text-anchor=\"middle\" y=\"397.0\">\n",
       "    <tspan class=\"displacy-word\" fill=\"currentColor\" x=\"1100\">quickly</tspan>\n",
       "    <tspan class=\"displacy-tag\" dy=\"2em\" fill=\"currentColor\" x=\"1100\">ADV</tspan>\n",
       "</text>\n",
       "\n",
       "<text class=\"displacy-token\" fill=\"currentColor\" text-anchor=\"middle\" y=\"397.0\">\n",
       "    <tspan class=\"displacy-word\" fill=\"currentColor\" x=\"1275\">ran</tspan>\n",
       "    <tspan class=\"displacy-tag\" dy=\"2em\" fill=\"currentColor\" x=\"1275\">VERB</tspan>\n",
       "</text>\n",
       "\n",
       "<text class=\"displacy-token\" fill=\"currentColor\" text-anchor=\"middle\" y=\"397.0\">\n",
       "    <tspan class=\"displacy-word\" fill=\"currentColor\" x=\"1450\">after</tspan>\n",
       "    <tspan class=\"displacy-tag\" dy=\"2em\" fill=\"currentColor\" x=\"1450\">ADP</tspan>\n",
       "</text>\n",
       "\n",
       "<text class=\"displacy-token\" fill=\"currentColor\" text-anchor=\"middle\" y=\"397.0\">\n",
       "    <tspan class=\"displacy-word\" fill=\"currentColor\" x=\"1625\">the</tspan>\n",
       "    <tspan class=\"displacy-tag\" dy=\"2em\" fill=\"currentColor\" x=\"1625\">DET</tspan>\n",
       "</text>\n",
       "\n",
       "<text class=\"displacy-token\" fill=\"currentColor\" text-anchor=\"middle\" y=\"397.0\">\n",
       "    <tspan class=\"displacy-word\" fill=\"currentColor\" x=\"1800\">firetruck.</tspan>\n",
       "    <tspan class=\"displacy-tag\" dy=\"2em\" fill=\"currentColor\" x=\"1800\">NOUN</tspan>\n",
       "</text>\n",
       "\n",
       "<g class=\"displacy-arrow\">\n",
       "    <path class=\"displacy-arc\" id=\"arrow-6e205fe064ac469f95a553bd5fc54939-0-0\" stroke-width=\"2px\" d=\"M70,352.0 C70,264.5 210.0,264.5 210.0,352.0\" fill=\"none\" stroke=\"currentColor\"/>\n",
       "    <text dy=\"1.25em\" style=\"font-size: 0.8em; letter-spacing: 1px\">\n",
       "        <textPath xlink:href=\"#arrow-6e205fe064ac469f95a553bd5fc54939-0-0\" class=\"displacy-label\" startOffset=\"50%\" side=\"left\" fill=\"currentColor\" text-anchor=\"middle\">det</textPath>\n",
       "    </text>\n",
       "    <path class=\"displacy-arrowhead\" d=\"M70,354.0 L62,342.0 78,342.0\" fill=\"currentColor\"/>\n",
       "</g>\n",
       "\n",
       "<g class=\"displacy-arrow\">\n",
       "    <path class=\"displacy-arc\" id=\"arrow-6e205fe064ac469f95a553bd5fc54939-0-1\" stroke-width=\"2px\" d=\"M245,352.0 C245,2.0 1275.0,2.0 1275.0,352.0\" fill=\"none\" stroke=\"currentColor\"/>\n",
       "    <text dy=\"1.25em\" style=\"font-size: 0.8em; letter-spacing: 1px\">\n",
       "        <textPath xlink:href=\"#arrow-6e205fe064ac469f95a553bd5fc54939-0-1\" class=\"displacy-label\" startOffset=\"50%\" side=\"left\" fill=\"currentColor\" text-anchor=\"middle\">nsubj</textPath>\n",
       "    </text>\n",
       "    <path class=\"displacy-arrowhead\" d=\"M245,354.0 L237,342.0 253,342.0\" fill=\"currentColor\"/>\n",
       "</g>\n",
       "\n",
       "<g class=\"displacy-arrow\">\n",
       "    <path class=\"displacy-arc\" id=\"arrow-6e205fe064ac469f95a553bd5fc54939-0-2\" stroke-width=\"2px\" d=\"M245,352.0 C245,264.5 385.0,264.5 385.0,352.0\" fill=\"none\" stroke=\"currentColor\"/>\n",
       "    <text dy=\"1.25em\" style=\"font-size: 0.8em; letter-spacing: 1px\">\n",
       "        <textPath xlink:href=\"#arrow-6e205fe064ac469f95a553bd5fc54939-0-2\" class=\"displacy-label\" startOffset=\"50%\" side=\"left\" fill=\"currentColor\" text-anchor=\"middle\">prep</textPath>\n",
       "    </text>\n",
       "    <path class=\"displacy-arrowhead\" d=\"M385.0,354.0 L393.0,342.0 377.0,342.0\" fill=\"currentColor\"/>\n",
       "</g>\n",
       "\n",
       "<g class=\"displacy-arrow\">\n",
       "    <path class=\"displacy-arc\" id=\"arrow-6e205fe064ac469f95a553bd5fc54939-0-3\" stroke-width=\"2px\" d=\"M595,352.0 C595,177.0 915.0,177.0 915.0,352.0\" fill=\"none\" stroke=\"currentColor\"/>\n",
       "    <text dy=\"1.25em\" style=\"font-size: 0.8em; letter-spacing: 1px\">\n",
       "        <textPath xlink:href=\"#arrow-6e205fe064ac469f95a553bd5fc54939-0-3\" class=\"displacy-label\" startOffset=\"50%\" side=\"left\" fill=\"currentColor\" text-anchor=\"middle\">det</textPath>\n",
       "    </text>\n",
       "    <path class=\"displacy-arrowhead\" d=\"M595,354.0 L587,342.0 603,342.0\" fill=\"currentColor\"/>\n",
       "</g>\n",
       "\n",
       "<g class=\"displacy-arrow\">\n",
       "    <path class=\"displacy-arc\" id=\"arrow-6e205fe064ac469f95a553bd5fc54939-0-4\" stroke-width=\"2px\" d=\"M770,352.0 C770,264.5 910.0,264.5 910.0,352.0\" fill=\"none\" stroke=\"currentColor\"/>\n",
       "    <text dy=\"1.25em\" style=\"font-size: 0.8em; letter-spacing: 1px\">\n",
       "        <textPath xlink:href=\"#arrow-6e205fe064ac469f95a553bd5fc54939-0-4\" class=\"displacy-label\" startOffset=\"50%\" side=\"left\" fill=\"currentColor\" text-anchor=\"middle\">amod</textPath>\n",
       "    </text>\n",
       "    <path class=\"displacy-arrowhead\" d=\"M770,354.0 L762,342.0 778,342.0\" fill=\"currentColor\"/>\n",
       "</g>\n",
       "\n",
       "<g class=\"displacy-arrow\">\n",
       "    <path class=\"displacy-arc\" id=\"arrow-6e205fe064ac469f95a553bd5fc54939-0-5\" stroke-width=\"2px\" d=\"M420,352.0 C420,89.5 920.0,89.5 920.0,352.0\" fill=\"none\" stroke=\"currentColor\"/>\n",
       "    <text dy=\"1.25em\" style=\"font-size: 0.8em; letter-spacing: 1px\">\n",
       "        <textPath xlink:href=\"#arrow-6e205fe064ac469f95a553bd5fc54939-0-5\" class=\"displacy-label\" startOffset=\"50%\" side=\"left\" fill=\"currentColor\" text-anchor=\"middle\">pobj</textPath>\n",
       "    </text>\n",
       "    <path class=\"displacy-arrowhead\" d=\"M920.0,354.0 L928.0,342.0 912.0,342.0\" fill=\"currentColor\"/>\n",
       "</g>\n",
       "\n",
       "<g class=\"displacy-arrow\">\n",
       "    <path class=\"displacy-arc\" id=\"arrow-6e205fe064ac469f95a553bd5fc54939-0-6\" stroke-width=\"2px\" d=\"M1120,352.0 C1120,264.5 1260.0,264.5 1260.0,352.0\" fill=\"none\" stroke=\"currentColor\"/>\n",
       "    <text dy=\"1.25em\" style=\"font-size: 0.8em; letter-spacing: 1px\">\n",
       "        <textPath xlink:href=\"#arrow-6e205fe064ac469f95a553bd5fc54939-0-6\" class=\"displacy-label\" startOffset=\"50%\" side=\"left\" fill=\"currentColor\" text-anchor=\"middle\">advmod</textPath>\n",
       "    </text>\n",
       "    <path class=\"displacy-arrowhead\" d=\"M1120,354.0 L1112,342.0 1128,342.0\" fill=\"currentColor\"/>\n",
       "</g>\n",
       "\n",
       "<g class=\"displacy-arrow\">\n",
       "    <path class=\"displacy-arc\" id=\"arrow-6e205fe064ac469f95a553bd5fc54939-0-7\" stroke-width=\"2px\" d=\"M1295,352.0 C1295,264.5 1435.0,264.5 1435.0,352.0\" fill=\"none\" stroke=\"currentColor\"/>\n",
       "    <text dy=\"1.25em\" style=\"font-size: 0.8em; letter-spacing: 1px\">\n",
       "        <textPath xlink:href=\"#arrow-6e205fe064ac469f95a553bd5fc54939-0-7\" class=\"displacy-label\" startOffset=\"50%\" side=\"left\" fill=\"currentColor\" text-anchor=\"middle\">prep</textPath>\n",
       "    </text>\n",
       "    <path class=\"displacy-arrowhead\" d=\"M1435.0,354.0 L1443.0,342.0 1427.0,342.0\" fill=\"currentColor\"/>\n",
       "</g>\n",
       "\n",
       "<g class=\"displacy-arrow\">\n",
       "    <path class=\"displacy-arc\" id=\"arrow-6e205fe064ac469f95a553bd5fc54939-0-8\" stroke-width=\"2px\" d=\"M1645,352.0 C1645,264.5 1785.0,264.5 1785.0,352.0\" fill=\"none\" stroke=\"currentColor\"/>\n",
       "    <text dy=\"1.25em\" style=\"font-size: 0.8em; letter-spacing: 1px\">\n",
       "        <textPath xlink:href=\"#arrow-6e205fe064ac469f95a553bd5fc54939-0-8\" class=\"displacy-label\" startOffset=\"50%\" side=\"left\" fill=\"currentColor\" text-anchor=\"middle\">det</textPath>\n",
       "    </text>\n",
       "    <path class=\"displacy-arrowhead\" d=\"M1645,354.0 L1637,342.0 1653,342.0\" fill=\"currentColor\"/>\n",
       "</g>\n",
       "\n",
       "<g class=\"displacy-arrow\">\n",
       "    <path class=\"displacy-arc\" id=\"arrow-6e205fe064ac469f95a553bd5fc54939-0-9\" stroke-width=\"2px\" d=\"M1470,352.0 C1470,177.0 1790.0,177.0 1790.0,352.0\" fill=\"none\" stroke=\"currentColor\"/>\n",
       "    <text dy=\"1.25em\" style=\"font-size: 0.8em; letter-spacing: 1px\">\n",
       "        <textPath xlink:href=\"#arrow-6e205fe064ac469f95a553bd5fc54939-0-9\" class=\"displacy-label\" startOffset=\"50%\" side=\"left\" fill=\"currentColor\" text-anchor=\"middle\">pobj</textPath>\n",
       "    </text>\n",
       "    <path class=\"displacy-arrowhead\" d=\"M1790.0,354.0 L1798.0,342.0 1782.0,342.0\" fill=\"currentColor\"/>\n",
       "</g>\n",
       "</svg></span>"
      ],
      "text/plain": [
       "<IPython.core.display.HTML object>"
      ]
     },
     "metadata": {},
     "output_type": "display_data"
    }
   ],
   "source": [
    "displacy.render(doc, jupyter=True, style='dep')\n"
   ]
  },
  {
   "cell_type": "markdown",
   "metadata": {
    "id": "SOFErw52TN_H"
   },
   "source": [
    "\n",
    "Para comparar el análisis proporcionado por Spacy, puedes usar el analizador sintáctico online proporcionado por Standford: nlp.stanford.edu:8080/corenlp/process"
   ]
  },
  {
   "cell_type": "markdown",
   "metadata": {
    "id": "p6rGBImGokLb"
   },
   "source": [
    "### Cómo reconocer entidades nombradas en un texto\n",
    "\n",
    "\n",
    "Una entidad nombrada suelen ser nombres propios, como por ejemplo, nombres de personas, de organizaciones, lugares, etc. En un dominio clínico, los principales tipos de entidades serían: nombres de enfermedades, nombres de medicamentos, etc.\n",
    "\n",
    "Dado un objeto documento, resultado del análisis de un texto con un modelo Spacy, las entidades de dicho texto están contenidas en la propiedad **ents** del objeto documento.\n",
    "\n",
    "Por cada entidad, es posible acceder a las siguientes propiedades:\n",
    "- text: contiene la mención completa de la entidad nombrada.\n",
    "- label_: es el tipo de entidad.\n",
    "- start_char y end_char indican la posición del primer y último carácter de la entidad en el texto, respectivamente.\n",
    "\n",
    "Ejecuta la siguiente celda para ver las entidades del documento procesado en la celda anterior:"
   ]
  },
  {
   "cell_type": "code",
   "execution_count": 18,
   "metadata": {
    "colab": {
     "base_uri": "https://localhost:8080/"
    },
    "id": "o-GRY0DPsq0h",
    "outputId": "e5433d8c-a585-4ddc-c46b-b39cb2137432"
   },
   "outputs": [
    {
     "name": "stdout",
     "output_type": "stream",
     "text": [
      "Sentence:  Pedro Sánchez is the Prime Minister of Spain since June 2018.\n",
      "Entities:\n",
      "\t Pedro Sánchez PERSON 0 13\n",
      "\t Spain GPE 39 44\n",
      "\t June 2018 DATE 51 60\n",
      "\n"
     ]
    }
   ],
   "source": [
    "for i,s in enumerate(document.sents):\n",
    "  print(\"Sentence: \", s)\n",
    "  print(\"Entities:\")\n",
    "  for e in s.ents:\n",
    "    print('\\t',e.text,e.label_,e.start_char, e.end_char)\n",
    "  print()\n",
    "\n"
   ]
  },
  {
   "cell_type": "markdown",
   "metadata": {
    "id": "AcXYvr7UQ7B7"
   },
   "source": [
    "El paquete displacy también permite resaltar las entidades en el texto:"
   ]
  },
  {
   "cell_type": "code",
   "execution_count": 19,
   "metadata": {
    "colab": {
     "base_uri": "https://localhost:8080/",
     "height": 52
    },
    "id": "ja1dp9vgSV6z",
    "outputId": "a9043609-c75b-4f04-d3a0-4158dc64846b"
   },
   "outputs": [
    {
     "data": {
      "text/html": [
       "<span class=\"tex2jax_ignore\"><div class=\"entities\" style=\"line-height: 2.5; direction: ltr\">\n",
       "<mark class=\"entity\" style=\"background: #aa9cfc; padding: 0.45em 0.6em; margin: 0 0.25em; line-height: 1; border-radius: 0.35em;\">\n",
       "    Pedro Sánchez\n",
       "    <span style=\"font-size: 0.8em; font-weight: bold; line-height: 1; border-radius: 0.35em; vertical-align: middle; margin-left: 0.5rem\">PERSON</span>\n",
       "</mark>\n",
       " is the Prime Minister of \n",
       "<mark class=\"entity\" style=\"background: #feca74; padding: 0.45em 0.6em; margin: 0 0.25em; line-height: 1; border-radius: 0.35em;\">\n",
       "    Spain\n",
       "    <span style=\"font-size: 0.8em; font-weight: bold; line-height: 1; border-radius: 0.35em; vertical-align: middle; margin-left: 0.5rem\">GPE</span>\n",
       "</mark>\n",
       " since \n",
       "<mark class=\"entity\" style=\"background: #bfe1d9; padding: 0.45em 0.6em; margin: 0 0.25em; line-height: 1; border-radius: 0.35em;\">\n",
       "    June 2018\n",
       "    <span style=\"font-size: 0.8em; font-weight: bold; line-height: 1; border-radius: 0.35em; vertical-align: middle; margin-left: 0.5rem\">DATE</span>\n",
       "</mark>\n",
       ".</div></span>"
      ],
      "text/plain": [
       "<IPython.core.display.HTML object>"
      ]
     },
     "metadata": {},
     "output_type": "display_data"
    }
   ],
   "source": [
    "displacy.render(document, jupyter=True, style='ent')"
   ]
  },
  {
   "cell_type": "markdown",
   "metadata": {
    "id": "C1oigEbcp1z-"
   },
   "source": []
  }
 ],
 "metadata": {
  "colab": {
   "provenance": []
  },
  "kernelspec": {
   "display_name": "semestre_tres",
   "language": "python",
   "name": "python3"
  },
  "language_info": {
   "codemirror_mode": {
    "name": "ipython",
    "version": 3
   },
   "file_extension": ".py",
   "mimetype": "text/x-python",
   "name": "python",
   "nbconvert_exporter": "python",
   "pygments_lexer": "ipython3",
   "version": "3.12.4"
  }
 },
 "nbformat": 4,
 "nbformat_minor": 0
}
