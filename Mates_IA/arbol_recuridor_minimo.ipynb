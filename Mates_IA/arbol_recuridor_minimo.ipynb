{
 "cells": [
  {
   "cell_type": "markdown",
   "metadata": {},
   "source": [
    "# Arbol recuridor mínimo (MST)\n",
    "Conecta todo el grafo con el mínimo costo posible.\n",
    "- Es un arbol conectado y sin ciclos.\n",
    "- Tiene el menor peso total de todas las posible\n",
    "\n",
    "Es diferente al problema del agente viajero, ya que en este caso no se busca el camino más corto, sino el camino que conecta todos los nodos con el menor costo posible.\n",
    "\n",
    "Muchos problemas de tipo de conectividad sin resueltos con MST, como por ejemplo:\n",
    "- Algortimo de Prim\n",
    "- Algoritmo de Kruskal\n",
    "Ambos son algoritmos greedy: en cada paso se toma la mejor decisión local con la esperanza de llegar a la mejor solución global.\n",
    "\n",
    "\n",
    "## Algoritmo de Prim\n",
    "Fue desarrollado en 1930 por matemático checho Vojtěch Jarník, quien lo publicó en 1930. Luego fue redescubierto por Edsger Dijkstra en 1959 y Robert C. Prim en 1957.\n",
    "\n",
    "### Reglas del algoritmo\n",
    "Idea general:\n",
    "1. Iniciar con un nodo arbitrario.\n",
    "2. En cada paso, agregar el nodo más cercano al árbol.\n",
    "3. Repetir hasta que todos los nodos estén en el árbol.\n"
   ]
  },
  {
   "cell_type": "code",
   "execution_count": null,
   "metadata": {},
   "outputs": [],
   "source": [
    "# Algoritmo"
   ]
  },
  {
   "cell_type": "markdown",
   "metadata": {},
   "source": [
    "# Algoritmo de Kruskal\n",
    "Fue desarrollado en 1956 por Joseph Kruskal, quien lo publicó en 1956.\n",
    "Ideal general:\n",
    "1. Ordenar las aristas por peso.\n",
    "2. Agregar la arista más corta que no forme un ciclo.\n",
    "3. Repetir hasta que todos los nodos estén en el árbol.\n"
   ]
  },
  {
   "cell_type": "code",
   "execution_count": null,
   "metadata": {},
   "outputs": [],
   "source": [
    "# Algoritmo para Kruskal"
   ]
  },
  {
   "cell_type": "markdown",
   "metadata": {},
   "source": [
    "# Reglas del un greedy\n",
    "En un grafo conectado y ponderado, si divides sl conjunto de vértices en dos sub conjuntos "
   ]
  }
 ],
 "metadata": {
  "kernelspec": {
   "display_name": "semestre_tres",
   "language": "python",
   "name": "python3"
  },
  "language_info": {
   "name": "python",
   "version": "3.12.4"
  }
 },
 "nbformat": 4,
 "nbformat_minor": 2
}
