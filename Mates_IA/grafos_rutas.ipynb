{
 "cells": [
  {
   "cell_type": "markdown",
   "metadata": {},
   "source": [
    "# Caminos y ciclos de Euller\n",
    "\n",
    "## Los puentes de Konigsberg\n",
    "Un camino de Euller recorre todas las aristas de un grafo exactamente una vez. \n",
    "Un ciclo de Euller es un camino de Euller que comienza y termina en el mismo vértice.\n",
    "\n",
    "\n",
    "## Algoritmo de Fleury\n",
    "Elimina las aristas del grafo a medida que se recorren.\n",
    "\n",
    "## Caminos y ciclos de Hamilton\n",
    "Pasar por todos los vértices de un grafo exactamente una vez.\n",
    "\n",
    "## Problea del agente viajero\n",
    "Tenemos un agente de viajes que debe visitar n ciudades, cada una una vez, y regresar a la ciudad de origen."
   ]
  },
  {
   "cell_type": "markdown",
   "metadata": {},
   "source": []
  }
 ],
 "metadata": {
  "language_info": {
   "name": "python"
  }
 },
 "nbformat": 4,
 "nbformat_minor": 2
}
