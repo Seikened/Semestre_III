{
 "cells": [
  {
   "cell_type": "code",
   "execution_count": 2,
   "metadata": {},
   "outputs": [],
   "source": [
    "# pongamos a prueba el algoritmo\n",
    "import numpy as np\n",
    "\n",
    "grafo = {\n",
    "    \"a\": [\"b\", \"c\",\"d\"],\n",
    "    \"b\": [\"a\"],\n",
    "    \"c\": [\"a\" ],\n",
    "    \"d\": [\"a\",\"k\",\"l\"],\n",
    "    \"k\": [\"d\"],\n",
    "    \"l\": [\"d\",\"j\"],\n",
    "    \"j\": [\"l\",\"m\"],\n",
    "    \"m\": [\"j\"]\n",
    "}\n",
    "\n",
    "\n",
    "\n",
    "grafo2 = {\n",
    "    \"A\":[\"B\",\"D\"],\n",
    "    \"B\":[\"A\"],\n",
    "    \"C\":[\"K\"],\n",
    "    \"D\":[\"A\",\"L\"],\n",
    "    \"L\":[\"K\",\"J\"],\n",
    "    \"K\":[\"C\",\"L\"],\n",
    "    \"J\":[\"L\",\"M\"],\n",
    "    \"M\":[\"J\"]\n",
    "}"
   ]
  },
  {
   "cell_type": "markdown",
   "metadata": {},
   "source": [
    "# BFS algoritmo\n",
    "|Paso| Nodo actual| Visitado|Filas por visitar|\n",
    "|---|---|---|---|\n",
    "|0  | - | {A} | {} |\n",
    "|1  | A | {A,C,D,B} | {B,C,D} |\n",
    "|2|C | {A,C,D,B} | {B,D} |\n",
    "|3|D | {A,C,D,B,K,L} | {B,K,L} |\n",
    "|4|B | {A,C,D,B,K,} | {K,L} |\n",
    "|5|K | {A,C,D,B,K,L} | {L} |\n",
    "|6|L | {A,C,D,B,K,L} | {J} |\n",
    "|7|J | {A,C,D,B,K,L,J} | {M} |\n",
    "|8|M | {A,C,D,B,K,L,J,M} | {} |"
   ]
  },
  {
   "cell_type": "code",
   "execution_count": 3,
   "metadata": {},
   "outputs": [],
   "source": [
    "\n",
    "#BFS\n",
    "def bfs(grafo, inicio):\n",
    "    visitados = []\n",
    "    cola = [inicio]\n",
    "    while cola:\n",
    "        nodo = cola.pop(0)\n",
    "        if nodo not in visitados:\n",
    "            visitados.append(nodo)\n",
    "            vecinos = grafo[nodo]\n",
    "            for vecino in vecinos:\n",
    "                cola.append(vecino)\n",
    "    return visitados\n"
   ]
  },
  {
   "cell_type": "markdown",
   "metadata": {},
   "source": [
    "# Tabla Completa para DFS\n",
    "\n",
    "| Paso | Nodo actual | Conexiones            | Filas por visitar |\n",
    "|------|-------------|-----------------------|--------------------|\n",
    "| 0    | -           | {A}                   | {}                |\n",
    "| 1    | A           | {A, B, C, D}          | {B, C, D}         |\n",
    "| 2    | D           | {A, B, C, D, K, L}    | {B, C, K, L}      |\n",
    "| 3    | L           | {A, B, C, D, K, L, J} | {B, C, K, J}      |\n",
    "| 4    | J           | {A, B, C, D, K, L, J, M} | {B, C, K, M}   |\n",
    "| 5    | M           | {A, B, C, D, K, L, J, M} | {B, C, K}     |\n",
    "| 6    | K           | {A, B, C, D, K, L, J, M} | {B, C}         |\n",
    "| 7    | C           | {A, B, C, D, K, L, J, M} | {B}           |\n",
    "| 8    | B           | {A, B, C, D, K, L, J, M} | {}            |\n",
    "\n",
    "---\n",
    "\n",
    "En este formato:\n",
    "- **Nodo actual** indica el nodo en el que estás en ese paso.\n",
    "- **Conexiones** muestra todos los nodos que se han marcado como visitados hasta ese punto.\n",
    "- **Filas por visitar** refleja los nodos en la pila (stack), en el orden en que se procesarán."
   ]
  },
  {
   "cell_type": "code",
   "execution_count": 4,
   "metadata": {},
   "outputs": [],
   "source": [
    "def dfs(grafo, inicio):\n",
    "    visitados = []\n",
    "    pila = [inicio]\n",
    "    while pila:\n",
    "        nodo = pila.pop()\n",
    "        if nodo not in visitados:\n",
    "            visitados.append(nodo)\n",
    "            vecinos = grafo[nodo]\n",
    "            for vecino in vecinos:\n",
    "                pila.append(vecino)\n",
    "    return visitados"
   ]
  },
  {
   "cell_type": "code",
   "execution_count": 5,
   "metadata": {},
   "outputs": [
    {
     "name": "stdout",
     "output_type": "stream",
     "text": [
      "BFS Y DFS GRAFO 1 \n",
      "['a', 'b', 'c', 'd', 'k', 'l', 'j', 'm']\n",
      "['a', 'd', 'l', 'j', 'm', 'k', 'c', 'b']\n",
      "BFS Y DFS GRAFO 2 \n",
      "['A', 'B', 'D', 'L', 'K', 'J', 'C', 'M']\n",
      "['A', 'D', 'L', 'J', 'M', 'K', 'C', 'B']\n"
     ]
    }
   ],
   "source": [
    "#Prueba del grafo 1 y dos\n",
    "\n",
    "\n",
    "\n",
    "#GRAFO 1\n",
    "print(\"BFS Y DFS GRAFO 1 \")\n",
    "print(bfs(grafo, \"a\"))\n",
    "print(dfs(grafo, \"a\"))\n",
    "\n",
    "#GRAFO 2\n",
    "print(\"BFS Y DFS GRAFO 2 \")\n",
    "print(bfs(grafo2, \"A\"))\n",
    "print(dfs(grafo2, \"A\"))\n",
    "\n"
   ]
  },
  {
   "cell_type": "markdown",
   "metadata": {},
   "source": [
    "# DIJKSTRA\n"
   ]
  }
 ],
 "metadata": {
  "kernelspec": {
   "display_name": "semestre_tres",
   "language": "python",
   "name": "python3"
  },
  "language_info": {
   "codemirror_mode": {
    "name": "ipython",
    "version": 3
   },
   "file_extension": ".py",
   "mimetype": "text/x-python",
   "name": "python",
   "nbconvert_exporter": "python",
   "pygments_lexer": "ipython3",
   "version": "3.12.4"
  }
 },
 "nbformat": 4,
 "nbformat_minor": 2
}
